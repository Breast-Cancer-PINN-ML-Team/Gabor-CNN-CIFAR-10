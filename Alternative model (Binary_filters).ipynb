{
 "cells": [
  {
   "cell_type": "code",
   "execution_count": null,
   "metadata": {
    "colab": {
     "base_uri": "https://localhost:8080/",
     "height": 34
    },
    "colab_type": "code",
    "collapsed": true,
    "id": "h1jO0WClcuSi",
    "outputId": "86e71e83-a095-4aea-e899-5727aea03152"
   },
   "outputs": [],
   "source": [
    "import time\n",
    "import numpy as np\n",
    "import keras\n",
    "from skimage.filters import gabor_kernel\n",
    "from keras.models import Sequential\n",
    "from keras.layers import Dense\n",
    "from keras.layers import Dropout\n",
    "from keras.layers import Flatten\n",
    "from keras.constraints import maxnorm\n",
    "from keras.optimizers import SGD\n",
    "from keras.layers import Activation\n",
    "from keras.layers.convolutional import Conv2D\n",
    "from keras.layers.convolutional import MaxPooling2D\n",
    "from keras.layers.normalization import BatchNormalization\n",
    "from keras.utils import np_utils\n",
    "from keras import backend as K\n",
    "if K.backend()=='tensorflow':\n",
    "    K.set_image_dim_ordering(\"tf\")\n",
    "from skimage.color import rgb2gray\n",
    "from scipy import ndimage as ndi\n",
    " \n",
    "# Import Tensorflow with multiprocessing\n",
    "import tensorflow as tf\n",
    "import multiprocessing as mp\n",
    " \n",
    "# Loading the CIFAR-10 datasets\n",
    "from keras.datasets import cifar10\n",
    "import cv2\n",
    "from sklearn.model_selection import train_test_split, StratifiedKFold\n",
    "import pickle"
   ]
  },
  {
   "cell_type": "markdown",
   "metadata": {},
   "source": [
    "## Setup"
   ]
  },
  {
   "cell_type": "code",
   "execution_count": null,
   "metadata": {
    "colab": {},
    "colab_type": "code",
    "collapsed": true,
    "id": "10NJAT2BcuSm"
   },
   "outputs": [],
   "source": [
    "batch_size = 32\n",
    "# 32 examples in a mini-batch, smaller batch size means more updates in one epoch\n",
    "num_classes = 10\n",
    "epochs = 24\n",
    "class_names = ['airplane', 'automobile', 'bird', 'cat', 'deer', 'dog', 'frog', 'horse', 'ship', 'truck']"
   ]
  },
  {
   "cell_type": "markdown",
   "metadata": {},
   "source": [
    "## Pre-processing pipeline"
   ]
  },
  {
   "cell_type": "code",
   "execution_count": null,
   "metadata": {
    "colab": {},
    "colab_type": "code",
    "collapsed": true,
    "id": "yc7qqCqqcuSp"
   },
   "outputs": [],
   "source": [
    "def grayscale(data, dtype='float32'):\n",
    "    # luma coding weighted average in video systems\n",
    "    r, g, b = np.asarray(.3, dtype=dtype), np.asarray(.59, dtype=dtype), np.asarray(.11, dtype=dtype)\n",
    "    rst = r * data[:, :, :, 0] + g * data[:, :, :, 1] + b * data[:, :, :, 2]\n",
    "    return rst"
   ]
  },
  {
   "cell_type": "code",
   "execution_count": null,
   "metadata": {
    "colab": {},
    "colab_type": "code",
    "collapsed": true,
    "id": "q7fR4QyScuSr"
   },
   "outputs": [],
   "source": [
    "def add_dimension(data):\n",
    "    data = np.array([data])\n",
    "    #re arange the dimension\n",
    "    print(data.shape)\n",
    "    data = np.einsum('hijk->ijkh', data)\n",
    "    return data"
   ]
  },
  {
   "cell_type": "code",
   "execution_count": null,
   "metadata": {
    "colab": {
     "base_uri": "https://localhost:8080/",
     "height": 85
    },
    "colab_type": "code",
    "collapsed": true,
    "id": "u_CAMqxAcuSt",
    "outputId": "645c199b-9df6-446f-b2a9-b67e38f40921"
   },
   "outputs": [],
   "source": [
    "(x_train, y_train), (x_test, y_test) = cifar10.load_data()\n",
    "train_selected_amount = 50000\n",
    "test_selected_amount = 10000\n",
    "num_classes = 10\n",
    "\n",
    "init_y_train = y_train[:train_selected_amount]\n",
    "init_y_test = y_test[:test_selected_amount]\n",
    "\n",
    "x_train = add_dimension(grayscale(x_train[:train_selected_amount]))\n",
    "x_test = add_dimension(grayscale(x_test[:test_selected_amount]))\n",
    "y_train = np_utils.to_categorical(init_y_train, num_classes)\n",
    "y_test = np_utils.to_categorical(init_y_test, num_classes)\n",
    "\n",
    "x_train = x_train.astype('float32')\n",
    "x_test = x_test.astype('float32')\n",
    "x_train  /= 255\n",
    "x_test /= 255"
   ]
  },
  {
   "cell_type": "markdown",
   "metadata": {},
   "source": [
    "## Generate binary filters"
   ]
  },
  {
   "cell_type": "code",
   "execution_count": null,
   "metadata": {
    "colab": {},
    "colab_type": "code",
    "collapsed": true,
    "id": "0S6lNE9diEwk"
   },
   "outputs": [],
   "source": [
    "def generate_filter(start_angle=0):\n",
    "    elips = []\n",
    "    for i in range(0, 8):\n",
    "        w = 32\n",
    "        img=np.zeros((w,w))\n",
    "        radius=14\n",
    "        axes = (radius,radius)\n",
    "        angle = 0\n",
    "        startAngle = start_angle\n",
    "        endAngle = start_angle + 180\n",
    "        center = (16,16)\n",
    "        color = 255\n",
    "        elip = cv2.ellipse(img, center, axes, angle, startAngle, endAngle, color, thickness=-1)\n",
    "        elips.append(elip)\n",
    "        start_angle += 45\n",
    "    return np.array(elips)\n",
    "\n",
    "def negative_threshold(img):\n",
    "    return np.where(img == 255, -1, 0)\n",
    "\n",
    "def positive_threshold(img):\n",
    "    return np.where(img == 255, 1, 0)"
   ]
  },
  {
   "cell_type": "code",
   "execution_count": null,
   "metadata": {
    "colab": {},
    "colab_type": "code",
    "collapsed": true,
    "id": "ljI-ISlHcyn4"
   },
   "outputs": [],
   "source": [
    "def custom_binary_initialiser(shape, dtype=None):\n",
    "  elips_plus = generate_filter(0)\n",
    "  elips_minus = generate_filter(180)\n",
    "  combined = np.logical_or(elips_plus, elips_minus)\n",
    "  elips_negative = negative_threshold(elips_minus)\n",
    "  elips_positive = positive_threshold(elips_plus)\n",
    "  orientation_selectivity_filters = elips_negative + elips_positive\n",
    "  orientation_selectivity_filters = orientation_selectivity_filters\n",
    "  filters = np.array(orientation_selectivity_filters)\n",
    "  for i in range(0, 5):\n",
    "    filters = np.append(filters, orientation_selectivity_filters, axis=0)\n",
    "  filters = np.array([filters])\n",
    "  print(filters.shape)\n",
    "  print(shape)\n",
    "  filters = np.einsum('hijk->jkhi', filters)\n",
    "\n",
    "  return K.variable(filters)"
   ]
  },
  {
   "cell_type": "markdown",
   "metadata": {},
   "source": [
    "## DCNNs Structure"
   ]
  },
  {
   "cell_type": "code",
   "execution_count": null,
   "metadata": {
    "colab": {},
    "colab_type": "code",
    "collapsed": true,
    "id": "dBPFXMQii9Vw"
   },
   "outputs": [],
   "source": [
    "def base_model(shape):\n",
    "    model = Sequential()\n",
    "    model.add(Conv2D(48, (3, 3), padding='same',kernel_initializer=custom_binary_initialiser, data_format='channels_last', input_shape=shape))\n",
    "    model.add(Activation('relu'))\n",
    "    model.add(Conv2D(48, (3, 3)))\n",
    "    model.add(Activation('relu'))\n",
    "    model.add(MaxPooling2D(pool_size=(2, 2)))\n",
    "    model.add(Dropout(0.25))\n",
    "\n",
    "    model.add(Conv2D(64, (3, 3), padding='same'))\n",
    "    model.add(Activation('relu'))\n",
    "    model.add(Conv2D(64, (3, 3)))\n",
    "    model.add(Activation('relu'))\n",
    "    model.add(MaxPooling2D(pool_size=(2, 2)))\n",
    "    model.add(Dropout(0.25))\n",
    "\n",
    "    model.add(Flatten())\n",
    "    model.add(Dense(512))\n",
    "    model.add(Activation('relu'))\n",
    "    model.add(Dropout(0.5))\n",
    "    model.add(Dense(num_classes))\n",
    "    model.add(Activation('softmax'))\n",
    "    opt = keras.optimizers.rmsprop(lr=0.0001, decay=1e-6)\n",
    "    model.compile(loss='categorical_crossentropy', optimizer=opt, metrics=['accuracy'])\n",
    "    return model"
   ]
  },
  {
   "cell_type": "code",
   "execution_count": null,
   "metadata": {
    "colab": {
     "base_uri": "https://localhost:8080/",
     "height": 2275
    },
    "colab_type": "code",
    "collapsed": true,
    "id": "BcmiSRe3cuS3",
    "outputId": "11ea9f02-c2e4-43a1-ad75-86780183ecf6"
   },
   "outputs": [],
   "source": [
    "scores = []\n",
    "model = None\n",
    "iteration = 1\n",
    "\n",
    "for i in range(0, iteration):\n",
    "  model = base_model(x_train.shape[1:])\n",
    "  model.summary()\n",
    "  history = model.fit(x_train, y_train, batch_size=batch_size, epochs=epochs, validation_data=(x_test, y_test), shuffle=True)\n",
    "  score = model.evaluate(x_test, y_test, verbose=0)\n",
    "  scores.append(score[1])\n",
    "  print(scores)\n",
    "  if(i != iteration - 1):\n",
    "    del model\n",
    "  else:\n",
    "    model = model"
   ]
  },
  {
   "cell_type": "code",
   "execution_count": null,
   "metadata": {
    "colab": {
     "base_uri": "https://localhost:8080/",
     "height": 51
    },
    "colab_type": "code",
    "collapsed": true,
    "id": "IaRQ6YTacuS5",
    "outputId": "23c60662-34c4-4a85-b3ea-68107d46a1be"
   },
   "outputs": [],
   "source": [
    "score = model.evaluate(x_test, y_test, verbose=0)\n",
    "print('Test loss:', score[0])\n",
    "print('Test accuracy:', score[1])"
   ]
  },
  {
   "cell_type": "markdown",
   "metadata": {
    "colab_type": "text",
    "id": "s1ESNnlNcuS9"
   },
   "source": [
    "### K fold cross validation"
   ]
  },
  {
   "cell_type": "code",
   "execution_count": null,
   "metadata": {
    "colab": {},
    "colab_type": "code",
    "collapsed": true,
    "id": "V5cNkPv7cuS9"
   },
   "outputs": [],
   "source": [
    "# k = 10\n",
    "# scores = []\n",
    "# folds = list(StratifiedKFold(n_splits=k, shuffle=True, random_state=1).split(x_train, init_y_train))\n",
    "# for j, (train_idx, val_idx) in enumerate(folds):\n",
    "#     print('fold ', j)\n",
    "#     x_train_cv = x_train[train_idx]\n",
    "#     y_train_cv = y_train[train_idx]\n",
    "#     x_valid_cv = x_train[val_idx]\n",
    "#     y_valid_cv = y_train[val_idx]\n",
    "#     model = base_model(x_train_cv.shape[1:])\n",
    "#     model.fit(x_train_cv, y_train_cv, batch_size=batch_size, epochs=epochs, validation_data=(x_valid_cv, y_valid_cv), shuffle=True)\n",
    "#     score = model.evaluate(x_test, y_test, verbose=0)\n",
    "#     scores.append(score[1] * 100)\n",
    "# print(\"average accuracy: %.2f%% (+/- %.2f%%)\" % (np.mean(scores), np.std(scores)))"
   ]
  },
  {
   "cell_type": "code",
   "execution_count": null,
   "metadata": {
    "colab": {
     "base_uri": "https://localhost:8080/",
     "height": 34
    },
    "colab_type": "code",
    "collapsed": true,
    "id": "W_yslpYAcuTA",
    "outputId": "f91af9cc-bf40-4a5d-a80e-fe9454ff3a20"
   },
   "outputs": [],
   "source": [
    "# serialize model to JSON\n",
    "model_json = model.to_json()\n",
    "with open(\"models/model_binary.json\", \"w\") as json_file:\n",
    "    json_file.write(model_json)\n",
    "# serialize weights to HDF5\n",
    "model.save(\"models/model_binary.h5\")\n",
    "pickle.dump(history.history, open('history/model_binary.p','wb'))\n",
    "print(\"Saved model to disk\")"
   ]
  }
 ],
 "metadata": {
  "accelerator": "GPU",
  "colab": {
   "collapsed_sections": [],
   "name": "Alternative model (Binary filters).ipynb",
   "provenance": [],
   "version": "0.3.2"
  },
  "kernelspec": {
   "display_name": "Python 3",
   "language": "python",
   "name": "python3"
  },
  "language_info": {
   "codemirror_mode": {
    "name": "ipython",
    "version": 3
   },
   "file_extension": ".py",
   "mimetype": "text/x-python",
   "name": "python",
   "nbconvert_exporter": "python",
   "pygments_lexer": "ipython3",
   "version": "3.6.1"
  }
 },
 "nbformat": 4,
 "nbformat_minor": 1
}
