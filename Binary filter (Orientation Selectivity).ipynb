{
 "cells": [
  {
   "cell_type": "code",
   "execution_count": 344,
   "metadata": {},
   "outputs": [],
   "source": [
    "import numpy as np\n",
    "import cairo\n",
    "import math\n",
    "import matplotlib.pyplot as plt\n",
    "from scipy import ndimage\n",
    "import cv2"
   ]
  },
  {
   "cell_type": "code",
   "execution_count": 345,
   "metadata": {},
   "outputs": [],
   "source": [
    "def generate_filter(start_angle=0):\n",
    "    elips = []\n",
    "    for i in range(0, 8):\n",
    "        w = 32\n",
    "        img=np.zeros((w,w))\n",
    "        radius=14\n",
    "        axes = (radius,radius)\n",
    "        angle = 0\n",
    "        startAngle = start_angle\n",
    "        endAngle = start_angle + 180\n",
    "        center = (16,16)\n",
    "        color = 255\n",
    "        elip = cv2.ellipse(img, center, axes, angle, startAngle, endAngle, color, thickness=-1)\n",
    "        elips.append(elip)\n",
    "        start_angle += 45\n",
    "    return np.array(elips)"
   ]
  },
  {
   "cell_type": "code",
   "execution_count": 346,
   "metadata": {},
   "outputs": [],
   "source": [
    "def negative_threshold(img):\n",
    "    return np.where(img == 255, -1, 0)\n",
    "\n",
    "def positive_threshold(img):\n",
    "    return np.where(img == 255, 1, 0)"
   ]
  },
  {
   "cell_type": "code",
   "execution_count": 347,
   "metadata": {},
   "outputs": [
    {
     "name": "stdout",
     "output_type": "stream",
     "text": [
      "[-1  0  1]\n"
     ]
    }
   ],
   "source": [
    "elips_plus = generate_filter(0)\n",
    "elips_minus = generate_filter(180)\n",
    "combined = np.logical_or(elips_plus, elips_minus)\n",
    "elips_negative = negative_threshold(elips_minus)\n",
    "elips_positive = positive_threshold(elips_plus)\n",
    "orientation_selectivity_filters = elips_negative + elips_positive\n",
    "print(np.unique(orientation_selectivity_filters[1]))"
   ]
  },
  {
   "cell_type": "code",
   "execution_count": 365,
   "metadata": {},
   "outputs": [
    {
     "data": {
      "text/plain": [
       "<Figure size 432x288 with 0 Axes>"
      ]
     },
     "metadata": {},
     "output_type": "display_data"
    },
    {
     "data": {
      "image/png": "[encoded data removed]",
      "text/plain": [
       "<Figure size 1440x360 with 8 Axes>"
      ]
     },
     "metadata": {},
     "output_type": "display_data"
    }
   ],
   "source": [
    "plt.figure()\n",
    "\n",
    "# plt.title('plus and minus')\n",
    "# plt.imshow(orientation_selectivity_filters[1], cmap='gray')\n",
    "# plt.show()\n",
    "fig, axes = plt.subplots(nrows=1, ncols=8, figsize=(20, 5))\n",
    "plt.gray()\n",
    "fig.suptitle('Orientation selectivity filters', fontsize=15)\n",
    "for col in range(0, 8):\n",
    "    cell = axes[col]\n",
    "    cell.imshow(orientation_selectivity_filters[col])"
   ]
  },
  {
   "cell_type": "code",
   "execution_count": 340,
   "metadata": {},
   "outputs": [
    {
     "name": "stdout",
     "output_type": "stream",
     "text": [
      "(8, 32, 32)\n",
      "(32, 32, 8)\n"
     ]
    }
   ],
   "source": [
    "print(orientation_selectivity_filters.shape)\n",
    "orientation_selectivity_filters = np.einsum('hij->ijh', orientation_selectivity_filters)\n",
    "print(orientation_selectivity_filters.shape)"
   ]
  },
  {
   "cell_type": "code",
   "execution_count": 366,
   "metadata": {},
   "outputs": [],
   "source": [
    "np.save('orientation_selectivity_filters.npy', orientation_selectivity_filters)"
   ]
  },
  {
   "cell_type": "code",
   "execution_count": null,
   "metadata": {},
   "outputs": [],
   "source": []
  }
 ],
 "metadata": {
  "kernelspec": {
   "display_name": "Python 3",
   "language": "python",
   "name": "python3"
  },
  "language_info": {
   "codemirror_mode": {
    "name": "ipython",
    "version": 3
   },
   "file_extension": ".py",
   "mimetype": "text/x-python",
   "name": "python",
   "nbconvert_exporter": "python",
   "pygments_lexer": "ipython3",
   "version": "3.6.5"
  }
 },
 "nbformat": 4,
 "nbformat_minor": 2
}
