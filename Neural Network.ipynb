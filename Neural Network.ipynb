{
 "cells": [
  {
   "cell_type": "code",
   "execution_count": 59,
   "metadata": {},
   "outputs": [],
   "source": [
    "import time\n",
    "import matplotlib.pyplot as plt\n",
    "import numpy as np\n",
    "import keras\n",
    "from skimage.filters import gabor_kernel\n",
    "from keras.models import Sequential\n",
    "from keras.layers import Dense\n",
    "from keras.layers import Dropout\n",
    "from keras.layers import Flatten\n",
    "from keras.constraints import maxnorm\n",
    "from keras.optimizers import SGD\n",
    "from keras.layers import Activation\n",
    "from keras.layers.convolutional import Conv2D\n",
    "from keras.layers.convolutional import MaxPooling2D\n",
    "from keras.layers.normalization import BatchNormalization\n",
    "from keras.utils import np_utils\n",
    "from keras import backend as K\n",
    "if K.backend()=='tensorflow':\n",
    "    K.set_image_dim_ordering(\"tf\")\n",
    "from skimage.color import rgb2gray\n",
    "from scipy import ndimage as ndi\n",
    " \n",
    "# Import Tensorflow with multiprocessing\n",
    "import tensorflow as tf\n",
    "import multiprocessing as mp\n",
    " \n",
    "# Loading the CIFAR-10 datasets\n",
    "from keras.datasets import cifar10\n",
    "import cv2"
   ]
  },
  {
   "cell_type": "code",
   "execution_count": 60,
   "metadata": {},
   "outputs": [],
   "source": [
    "batch_size = 32\n",
    "# 32 examples in a mini-batch, smaller batch size means more updates in one epoch\n",
    "num_classes = 10\n",
    "epochs = 24\n",
    "class_names = ['airplane', 'automobile', 'bird', 'cat', 'deer', 'dog', 'frog', 'horse', 'ship', 'truck']"
   ]
  },
  {
   "cell_type": "code",
   "execution_count": 62,
   "metadata": {},
   "outputs": [],
   "source": [
    "def grayscale(data, dtype='float32'):\n",
    "    # luma coding weighted average in video systems\n",
    "    r, g, b = np.asarray(.3, dtype=dtype), np.asarray(.59, dtype=dtype), np.asarray(.11, dtype=dtype)\n",
    "    rst = r * data[:, :, :, 0] + g * data[:, :, :, 1] + b * data[:, :, :, 2]\n",
    "    return rst"
   ]
  },
  {
   "cell_type": "code",
   "execution_count": 63,
   "metadata": {},
   "outputs": [],
   "source": [
    "def add_dimension(data):\n",
    "    data = np.array([data])\n",
    "    #re arange the dimension\n",
    "    print(data.shape)\n",
    "    data = np.einsum('hijk->ijkh', data)\n",
    "    return data"
   ]
  },
  {
   "cell_type": "code",
   "execution_count": 96,
   "metadata": {},
   "outputs": [
    {
     "name": "stdout",
     "output_type": "stream",
     "text": [
      "(1, 10, 32, 32)\n",
      "(1, 10, 32, 32)\n"
     ]
    }
   ],
   "source": [
    "(x_train, y_train), (x_test, y_test) = cifar10.load_data()\n",
    "train_selected_amount = 10\n",
    "test_selected_amount = 10\n",
    "num_classes = 10\n",
    "x_train = add_dimension(grayscale(x_train[:train_selected_amount]))\n",
    "x_test = add_dimension(grayscale(x_test[:test_selected_amount]))\n",
    "y_train = np_utils.to_categorical(y_train[:train_selected_amount], num_classes)\n",
    "y_test = np_utils.to_categorical(y_test[:test_selected_amount], num_classes)\n",
    "\n",
    "x_train = x_train.astype('float32')\n",
    "x_test = x_test.astype('float32')\n",
    "x_train  /= 255\n",
    "x_test /= 255"
   ]
  },
  {
   "cell_type": "code",
   "execution_count": 98,
   "metadata": {},
   "outputs": [],
   "source": [
    "def custom_gabor(shape, dtype=None):\n",
    "    orientation_spread = np.linspace(0, 4, 8) / 4. * np.pi\n",
    "    scales = np.linspace(0.1, 0.4, 6)\n",
    "    real_kernels = []\n",
    "#     size, sigma, theta, lambda, gamma aspect ratio\n",
    "    for orientation in orientation_spread:\n",
    "        for scale in scales:\n",
    "            real_kernel = cv2.getGaborKernel((3, 3), 3, orientation, scale, 1, 0)\n",
    "#             real_kernel = np.delete(np.delete(real_kernel, -1, 0), -1, 1)\n",
    "#             print(real_kernel.shape)\n",
    "            real_kernels.append(real_kernel)\n",
    "    real_kernels = np.array([real_kernels])\n",
    "    real_kernels = np.einsum('hijk->jkhi', real_kernels)\n",
    "    print(real_kernels.shape)\n",
    "\n",
    "    real_kernels = K.variable(real_kernels)\n",
    "#     print(real_kernels.shape)\n",
    "    random = K.random_normal(shape, dtype=dtype)\n",
    "    print('here')\n",
    "    print(random)\n",
    "    print(random.shape)\n",
    "    return real_kernels"
   ]
  },
  {
   "cell_type": "code",
   "execution_count": 99,
   "metadata": {},
   "outputs": [],
   "source": [
    "def base_model():\n",
    "    model = Sequential()\n",
    "    model.add(Conv2D(48, (3, 3), padding='same',kernel_initializer=custom_gabor, data_format='channels_last', input_shape=x_train.shape[1:]))\n",
    "    model.add(Activation('relu'))\n",
    "    model.add(Conv2D(32, (3, 3)))\n",
    "    model.add(Activation('relu'))\n",
    "    model.add(MaxPooling2D(pool_size=(2, 2)))\n",
    "    model.add(Dropout(0.25))\n",
    "\n",
    "    model.add(Conv2D(64, (3, 3), padding='same'))\n",
    "    model.add(Activation('relu'))\n",
    "    model.add(Conv2D(64, (3, 3)))\n",
    "    model.add(Activation('relu'))\n",
    "    model.add(MaxPooling2D(pool_size=(2, 2)))\n",
    "    model.add(Dropout(0.25))\n",
    "\n",
    "    model.add(Flatten())\n",
    "    model.add(Dense(512))\n",
    "    model.add(Activation('relu'))\n",
    "    model.add(Dropout(0.5))\n",
    "    model.add(Dense(num_classes))\n",
    "    model.add(Activation('softmax'))\n",
    "    # sgd = SGD(lr = 0.1, decay = 1e-6, momentum=0.9, nesterov=True)\n",
    "    opt = keras.optimizers.rmsprop(lr=0.0001, decay=1e-6)\n",
    "    # Train model\n",
    "    model.compile(loss='categorical_crossentropy', optimizer=opt, metrics=['accuracy'])\n",
    "    return model"
   ]
  },
  {
   "cell_type": "code",
   "execution_count": 100,
   "metadata": {},
   "outputs": [
    {
     "name": "stdout",
     "output_type": "stream",
     "text": [
      "(3, 3, 1, 48)\n",
      "here\n",
      "Tensor(\"conv2d_39/random_normal:0\", shape=(3, 3, 1, 48), dtype=float32)\n",
      "(3, 3, 1, 48)\n",
      "_________________________________________________________________\n",
      "Layer (type)                 Output Shape              Param #   \n",
      "=================================================================\n",
      "conv2d_39 (Conv2D)           (None, 32, 32, 48)        480       \n",
      "_________________________________________________________________\n",
      "activation_37 (Activation)   (None, 32, 32, 48)        0         \n",
      "_________________________________________________________________\n",
      "conv2d_40 (Conv2D)           (None, 30, 30, 32)        13856     \n",
      "_________________________________________________________________\n",
      "activation_38 (Activation)   (None, 30, 30, 32)        0         \n",
      "_________________________________________________________________\n",
      "max_pooling2d_13 (MaxPooling (None, 15, 15, 32)        0         \n",
      "_________________________________________________________________\n",
      "dropout_19 (Dropout)         (None, 15, 15, 32)        0         \n",
      "_________________________________________________________________\n",
      "conv2d_41 (Conv2D)           (None, 15, 15, 64)        18496     \n",
      "_________________________________________________________________\n",
      "activation_39 (Activation)   (None, 15, 15, 64)        0         \n",
      "_________________________________________________________________\n",
      "conv2d_42 (Conv2D)           (None, 13, 13, 64)        36928     \n",
      "_________________________________________________________________\n",
      "activation_40 (Activation)   (None, 13, 13, 64)        0         \n",
      "_________________________________________________________________\n",
      "max_pooling2d_14 (MaxPooling (None, 6, 6, 64)          0         \n",
      "_________________________________________________________________\n",
      "dropout_20 (Dropout)         (None, 6, 6, 64)          0         \n",
      "_________________________________________________________________\n",
      "flatten_7 (Flatten)          (None, 2304)              0         \n",
      "_________________________________________________________________\n",
      "dense_13 (Dense)             (None, 512)               1180160   \n",
      "_________________________________________________________________\n",
      "activation_41 (Activation)   (None, 512)               0         \n",
      "_________________________________________________________________\n",
      "dropout_21 (Dropout)         (None, 512)               0         \n",
      "_________________________________________________________________\n",
      "dense_14 (Dense)             (None, 10)                5130      \n",
      "_________________________________________________________________\n",
      "activation_42 (Activation)   (None, 10)                0         \n",
      "=================================================================\n",
      "Total params: 1,255,050\n",
      "Trainable params: 1,255,050\n",
      "Non-trainable params: 0\n",
      "_________________________________________________________________\n",
      "Train on 10 samples, validate on 10 samples\n",
      "Epoch 1/24\n",
      "10/10 [==============================] - 1s 53ms/step - loss: 3.7969 - acc: 0.1000 - val_loss: 2.7942 - val_acc: 0.0000e+00\n",
      "Epoch 2/24\n",
      "10/10 [==============================] - 0s 7ms/step - loss: 3.3076 - acc: 0.3000 - val_loss: 2.2917 - val_acc: 0.1000\n",
      "Epoch 3/24\n",
      "10/10 [==============================] - 0s 7ms/step - loss: 3.6806 - acc: 0.0000e+00 - val_loss: 2.5260 - val_acc: 0.0000e+00\n",
      "Epoch 4/24\n",
      "10/10 [==============================] - 0s 8ms/step - loss: 2.3439 - acc: 0.2000 - val_loss: 2.5136 - val_acc: 0.0000e+00\n",
      "Epoch 5/24\n",
      "10/10 [==============================] - 0s 10ms/step - loss: 2.5273 - acc: 0.2000 - val_loss: 2.5838 - val_acc: 0.0000e+00\n",
      "Epoch 6/24\n",
      "10/10 [==============================] - 0s 9ms/step - loss: 3.1031 - acc: 0.0000e+00 - val_loss: 2.5264 - val_acc: 0.0000e+00\n",
      "Epoch 7/24\n",
      "10/10 [==============================] - 0s 8ms/step - loss: 2.7177 - acc: 0.3000 - val_loss: 2.5041 - val_acc: 0.0000e+00\n",
      "Epoch 8/24\n",
      "10/10 [==============================] - 0s 8ms/step - loss: 2.6004 - acc: 0.3000 - val_loss: 2.6203 - val_acc: 0.0000e+00\n",
      "Epoch 9/24\n",
      "10/10 [==============================] - 0s 8ms/step - loss: 2.1972 - acc: 0.2000 - val_loss: 2.4998 - val_acc: 0.0000e+00\n",
      "Epoch 10/24\n",
      "10/10 [==============================] - 0s 9ms/step - loss: 2.3863 - acc: 0.2000 - val_loss: 2.5237 - val_acc: 0.0000e+00\n",
      "Epoch 11/24\n",
      "10/10 [==============================] - 0s 9ms/step - loss: 2.3316 - acc: 0.3000 - val_loss: 2.5473 - val_acc: 0.0000e+00\n",
      "Epoch 12/24\n",
      "10/10 [==============================] - 0s 8ms/step - loss: 2.8700 - acc: 0.1000 - val_loss: 2.5456 - val_acc: 0.0000e+00\n",
      "Epoch 13/24\n",
      "10/10 [==============================] - 0s 9ms/step - loss: 2.0104 - acc: 0.4000 - val_loss: 2.5158 - val_acc: 0.0000e+00\n",
      "Epoch 14/24\n",
      "10/10 [==============================] - 0s 7ms/step - loss: 1.8385 - acc: 0.2000 - val_loss: 2.5769 - val_acc: 0.0000e+00\n",
      "Epoch 15/24\n",
      "10/10 [==============================] - 0s 9ms/step - loss: 2.4858 - acc: 0.2000 - val_loss: 2.5820 - val_acc: 0.0000e+00\n",
      "Epoch 16/24\n",
      "10/10 [==============================] - 0s 9ms/step - loss: 1.9765 - acc: 0.4000 - val_loss: 2.5192 - val_acc: 0.0000e+00\n",
      "Epoch 17/24\n",
      "10/10 [==============================] - 0s 7ms/step - loss: 1.8751 - acc: 0.3000 - val_loss: 2.5395 - val_acc: 0.0000e+00\n",
      "Epoch 18/24\n",
      "10/10 [==============================] - 0s 7ms/step - loss: 1.8602 - acc: 0.4000 - val_loss: 2.5971 - val_acc: 0.0000e+00\n",
      "Epoch 19/24\n",
      "10/10 [==============================] - 0s 8ms/step - loss: 2.1873 - acc: 0.1000 - val_loss: 2.6068 - val_acc: 0.0000e+00\n",
      "Epoch 20/24\n",
      "10/10 [==============================] - 0s 7ms/step - loss: 2.1912 - acc: 0.3000 - val_loss: 2.5419 - val_acc: 0.0000e+00\n",
      "Epoch 21/24\n",
      "10/10 [==============================] - 0s 8ms/step - loss: 2.2700 - acc: 0.4000 - val_loss: 2.5052 - val_acc: 0.0000e+00\n",
      "Epoch 22/24\n",
      "10/10 [==============================] - 0s 8ms/step - loss: 1.7927 - acc: 0.4000 - val_loss: 2.4777 - val_acc: 0.0000e+00\n",
      "Epoch 23/24\n",
      "10/10 [==============================] - 0s 8ms/step - loss: 2.0644 - acc: 0.1000 - val_loss: 2.4674 - val_acc: 0.0000e+00\n",
      "Epoch 24/24\n",
      "10/10 [==============================] - 0s 7ms/step - loss: 2.2626 - acc: 0.1000 - val_loss: 2.4440 - val_acc: 0.1000\n"
     ]
    }
   ],
   "source": [
    "cnn_n = base_model()\n",
    "cnn_n.summary()\n",
    "\n",
    "cnn = cnn_n.fit(x_train, y_train, batch_size=batch_size, epochs=epochs, validation_data=(x_test, y_test), shuffle=True)"
   ]
  },
  {
   "cell_type": "code",
   "execution_count": 101,
   "metadata": {},
   "outputs": [
    {
     "name": "stdout",
     "output_type": "stream",
     "text": [
      "Test loss: 2.443958282470703\n",
      "Test accuracy: 0.10000000149011612\n"
     ]
    }
   ],
   "source": [
    "score = cnn_n.evaluate(x_test, y_test, verbose=0)\n",
    "print('Test loss:', score[0])\n",
    "print('Test accuracy:', score[1])"
   ]
  },
  {
   "cell_type": "code",
   "execution_count": null,
   "metadata": {},
   "outputs": [],
   "source": [
    "# serialize model to JSON\n",
    "model_json = cnn_n.to_json()\n",
    "with open(\"models/model.json\", \"w\") as json_file:\n",
    "    json_file.write(model_json)\n",
    "# serialize weights to HDF5\n",
    "cnn_n.save_weights(\"models/model.h5\")\n",
    "print(\"Saved model to disk\")"
   ]
  },
  {
   "cell_type": "code",
   "execution_count": null,
   "metadata": {},
   "outputs": [],
   "source": []
  }
 ],
 "metadata": {
  "kernelspec": {
   "display_name": "Python 3",
   "language": "python",
   "name": "python3"
  },
  "language_info": {
   "codemirror_mode": {
    "name": "ipython",
    "version": 3
   },
   "file_extension": ".py",
   "mimetype": "text/x-python",
   "name": "python",
   "nbconvert_exporter": "python",
   "pygments_lexer": "ipython3",
   "version": "3.6.5"
  }
 },
 "nbformat": 4,
 "nbformat_minor": 2
}
