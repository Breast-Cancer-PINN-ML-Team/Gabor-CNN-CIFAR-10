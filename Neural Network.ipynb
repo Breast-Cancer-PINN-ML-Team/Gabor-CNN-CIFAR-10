{
 "cells": [
  {
   "cell_type": "code",
   "execution_count": 1,
   "metadata": {},
   "outputs": [
    {
     "name": "stderr",
     "output_type": "stream",
     "text": [
      "Using TensorFlow backend.\n"
     ]
    }
   ],
   "source": [
    "import time\n",
    "import matplotlib.pyplot as plt\n",
    "import numpy as np\n",
    "import keras\n",
    "from skimage.filters import gabor_kernel\n",
    "from keras.models import Sequential\n",
    "from keras.layers import Dense\n",
    "from keras.layers import Dropout\n",
    "from keras.layers import Flatten\n",
    "from keras.constraints import maxnorm\n",
    "from keras.optimizers import SGD\n",
    "from keras.layers import Activation\n",
    "from keras.layers.convolutional import Conv2D\n",
    "from keras.layers.convolutional import MaxPooling2D\n",
    "from keras.layers.normalization import BatchNormalization\n",
    "from keras.utils import np_utils\n",
    "from keras import backend as K\n",
    "if K.backend()=='tensorflow':\n",
    "    K.set_image_dim_ordering(\"tf\")\n",
    "from skimage.color import rgb2gray\n",
    "from scipy import ndimage as ndi\n",
    " \n",
    "# Import Tensorflow with multiprocessing\n",
    "import tensorflow as tf\n",
    "import multiprocessing as mp\n",
    " \n",
    "# Loading the CIFAR-10 datasets\n",
    "from keras.datasets import cifar10"
   ]
  },
  {
   "cell_type": "code",
   "execution_count": 2,
   "metadata": {},
   "outputs": [],
   "source": [
    "batch_size = 32\n",
    "# 32 examples in a mini-batch, smaller batch size means more updates in one epoch\n",
    "num_classes = 10\n",
    "epochs = 24\n",
    "class_names = ['airplane', 'automobile', 'bird', 'cat', 'deer', 'dog', 'frog', 'horse', 'ship', 'truck']"
   ]
  },
  {
   "cell_type": "code",
   "execution_count": 3,
   "metadata": {},
   "outputs": [],
   "source": [
    "(x_train, y_train), (x_test, y_test) = cifar10.load_data()\n",
    "y_train = np_utils.to_categorical(y_train, num_classes)\n",
    "y_test = np_utils.to_categorical(y_test, num_classes)\n",
    "x_train = np.load('convolved_x_train_cv2.npy')\n",
    "x_test = np.load('convolved_x_test_cv2.npy')\n",
    "x_train = x_train.astype('float32')\n",
    "x_test = x_test.astype('float32')\n",
    "x_train  /= 255\n",
    "x_test /= 255"
   ]
  },
  {
   "cell_type": "code",
   "execution_count": 4,
   "metadata": {},
   "outputs": [],
   "source": [
    "def base_model():\n",
    "    model = Sequential()\n",
    "    model.add(Conv2D(32, (3, 3), padding='same', data_format='channels_last', input_shape=x_train.shape[1:]))\n",
    "    model.add(Activation('relu'))\n",
    "    model.add(Conv2D(32, (3, 3)))\n",
    "    model.add(Activation('relu'))\n",
    "    model.add(MaxPooling2D(pool_size=(2, 2)))\n",
    "    model.add(Dropout(0.25))\n",
    "\n",
    "    model.add(Conv2D(64, (3, 3), padding='same'))\n",
    "    model.add(Activation('relu'))\n",
    "    model.add(Conv2D(64, (3, 3)))\n",
    "    model.add(Activation('relu'))\n",
    "    model.add(MaxPooling2D(pool_size=(2, 2)))\n",
    "    model.add(Dropout(0.25))\n",
    "\n",
    "    model.add(Flatten())\n",
    "    model.add(Dense(512))\n",
    "    model.add(Activation('relu'))\n",
    "    model.add(Dropout(0.5))\n",
    "    model.add(Dense(num_classes))\n",
    "    model.add(Activation('softmax'))\n",
    "    # sgd = SGD(lr = 0.1, decay = 1e-6, momentum=0.9, nesterov=True)\n",
    "    opt = keras.optimizers.rmsprop(lr=0.0001, decay=1e-6)\n",
    "    # Train model\n",
    "    model.compile(loss='categorical_crossentropy', optimizer=opt, metrics=['accuracy'])\n",
    "    return model"
   ]
  },
  {
   "cell_type": "code",
   "execution_count": 5,
   "metadata": {},
   "outputs": [
    {
     "name": "stdout",
     "output_type": "stream",
     "text": [
      "(10, 32, 32, 96)\n",
      "(50000, 10)\n",
      "_________________________________________________________________\n",
      "Layer (type)                 Output Shape              Param #   \n",
      "=================================================================\n",
      "conv2d_1 (Conv2D)            (None, 32, 32, 32)        27680     \n",
      "_________________________________________________________________\n",
      "activation_1 (Activation)    (None, 32, 32, 32)        0         \n",
      "_________________________________________________________________\n",
      "conv2d_2 (Conv2D)            (None, 30, 30, 32)        9248      \n",
      "_________________________________________________________________\n",
      "activation_2 (Activation)    (None, 30, 30, 32)        0         \n",
      "_________________________________________________________________\n",
      "max_pooling2d_1 (MaxPooling2 (None, 15, 15, 32)        0         \n",
      "_________________________________________________________________\n",
      "dropout_1 (Dropout)          (None, 15, 15, 32)        0         \n",
      "_________________________________________________________________\n",
      "conv2d_3 (Conv2D)            (None, 15, 15, 64)        18496     \n",
      "_________________________________________________________________\n",
      "activation_3 (Activation)    (None, 15, 15, 64)        0         \n",
      "_________________________________________________________________\n",
      "conv2d_4 (Conv2D)            (None, 13, 13, 64)        36928     \n",
      "_________________________________________________________________\n",
      "activation_4 (Activation)    (None, 13, 13, 64)        0         \n",
      "_________________________________________________________________\n",
      "max_pooling2d_2 (MaxPooling2 (None, 6, 6, 64)          0         \n",
      "_________________________________________________________________\n",
      "dropout_2 (Dropout)          (None, 6, 6, 64)          0         \n",
      "_________________________________________________________________\n",
      "flatten_1 (Flatten)          (None, 2304)              0         \n",
      "_________________________________________________________________\n",
      "dense_1 (Dense)              (None, 512)               1180160   \n",
      "_________________________________________________________________\n",
      "activation_5 (Activation)    (None, 512)               0         \n",
      "_________________________________________________________________\n",
      "dropout_3 (Dropout)          (None, 512)               0         \n",
      "_________________________________________________________________\n",
      "dense_2 (Dense)              (None, 10)                5130      \n",
      "_________________________________________________________________\n",
      "activation_6 (Activation)    (None, 10)                0         \n",
      "=================================================================\n",
      "Total params: 1,277,642\n",
      "Trainable params: 1,277,642\n",
      "Non-trainable params: 0\n",
      "_________________________________________________________________\n",
      "Train on 10 samples, validate on 10 samples\n",
      "Epoch 1/24\n",
      "10/10 [==============================] - 1s 51ms/step - loss: 2.3065 - acc: 0.1000 - val_loss: 2.3018 - val_acc: 0.1000\n",
      "Epoch 2/24\n",
      "10/10 [==============================] - 0s 12ms/step - loss: 2.2229 - acc: 0.2000 - val_loss: 2.2984 - val_acc: 0.0000e+00\n",
      "Epoch 3/24\n",
      "10/10 [==============================] - 0s 17ms/step - loss: 2.1782 - acc: 0.3000 - val_loss: 2.2769 - val_acc: 0.0000e+00\n",
      "Epoch 4/24\n",
      "10/10 [==============================] - 0s 14ms/step - loss: 2.1688 - acc: 0.3000 - val_loss: 2.2637 - val_acc: 0.0000e+00\n",
      "Epoch 5/24\n",
      "10/10 [==============================] - 0s 15ms/step - loss: 2.2082 - acc: 0.1000 - val_loss: 2.2612 - val_acc: 0.0000e+00\n",
      "Epoch 6/24\n",
      "10/10 [==============================] - 0s 15ms/step - loss: 2.4254 - acc: 0.2000 - val_loss: 2.2350 - val_acc: 0.0000e+00\n",
      "Epoch 7/24\n",
      "10/10 [==============================] - 0s 12ms/step - loss: 2.3056 - acc: 0.2000 - val_loss: 2.2518 - val_acc: 0.0000e+00\n",
      "Epoch 8/24\n",
      "10/10 [==============================] - 0s 15ms/step - loss: 2.1462 - acc: 0.2000 - val_loss: 2.2456 - val_acc: 0.0000e+00\n",
      "Epoch 9/24\n",
      "10/10 [==============================] - 0s 15ms/step - loss: 2.0705 - acc: 0.3000 - val_loss: 2.2495 - val_acc: 0.0000e+00\n",
      "Epoch 10/24\n",
      "10/10 [==============================] - 0s 19ms/step - loss: 2.0102 - acc: 0.3000 - val_loss: 2.2460 - val_acc: 0.2000\n",
      "Epoch 11/24\n",
      "10/10 [==============================] - 0s 17ms/step - loss: 2.0166 - acc: 0.5000 - val_loss: 2.2376 - val_acc: 0.2000\n",
      "Epoch 12/24\n",
      "10/10 [==============================] - 0s 13ms/step - loss: 2.1138 - acc: 0.2000 - val_loss: 2.2419 - val_acc: 0.2000\n",
      "Epoch 13/24\n",
      "10/10 [==============================] - 0s 15ms/step - loss: 2.0303 - acc: 0.3000 - val_loss: 2.2449 - val_acc: 0.2000\n",
      "Epoch 14/24\n",
      "10/10 [==============================] - 0s 13ms/step - loss: 2.0881 - acc: 0.0000e+00 - val_loss: 2.2348 - val_acc: 0.2000\n",
      "Epoch 15/24\n",
      "10/10 [==============================] - 0s 16ms/step - loss: 1.6984 - acc: 0.4000 - val_loss: 2.2271 - val_acc: 0.2000\n",
      "Epoch 16/24\n",
      "10/10 [==============================] - 0s 15ms/step - loss: 1.9951 - acc: 0.3000 - val_loss: 2.2382 - val_acc: 0.0000e+00\n",
      "Epoch 17/24\n",
      "10/10 [==============================] - 0s 13ms/step - loss: 2.0653 - acc: 0.2000 - val_loss: 2.2318 - val_acc: 0.0000e+00\n",
      "Epoch 18/24\n",
      "10/10 [==============================] - 0s 16ms/step - loss: 1.9563 - acc: 0.1000 - val_loss: 2.2266 - val_acc: 0.0000e+00\n",
      "Epoch 19/24\n",
      "10/10 [==============================] - 0s 13ms/step - loss: 1.8371 - acc: 0.3000 - val_loss: 2.2237 - val_acc: 0.1000\n",
      "Epoch 20/24\n",
      "10/10 [==============================] - 0s 14ms/step - loss: 1.7372 - acc: 0.5000 - val_loss: 2.2339 - val_acc: 0.1000\n",
      "Epoch 21/24\n",
      "10/10 [==============================] - 0s 13ms/step - loss: 1.8655 - acc: 0.3000 - val_loss: 2.2354 - val_acc: 0.1000\n",
      "Epoch 22/24\n",
      "10/10 [==============================] - 0s 14ms/step - loss: 1.8586 - acc: 0.2000 - val_loss: 2.2397 - val_acc: 0.1000\n",
      "Epoch 23/24\n",
      "10/10 [==============================] - 0s 12ms/step - loss: 1.9079 - acc: 0.3000 - val_loss: 2.2591 - val_acc: 0.1000\n",
      "Epoch 24/24\n",
      "10/10 [==============================] - 0s 14ms/step - loss: 1.9038 - acc: 0.3000 - val_loss: 2.2518 - val_acc: 0.1000\n"
     ]
    }
   ],
   "source": [
    "print(x_train.shape)\n",
    "print(y_train.shape)\n",
    "cnn_n = base_model()\n",
    "cnn_n.summary()\n",
    "\n",
    "cnn = cnn_n.fit(x_train, y_train, batch_size=batch_size, epochs=epochs, validation_data=(x_test, y_test), shuffle=True)"
   ]
  },
  {
   "cell_type": "code",
   "execution_count": 7,
   "metadata": {},
   "outputs": [
    {
     "name": "stdout",
     "output_type": "stream",
     "text": [
      "Test loss: 2.2518210411071777\n",
      "Test accuracy: 0.10000000149011612\n"
     ]
    }
   ],
   "source": [
    "score = cnn_n.evaluate(x_test, y_test, verbose=0)\n",
    "print('Test loss:', score[0])\n",
    "print('Test accuracy:', score[1])"
   ]
  },
  {
   "cell_type": "code",
   "execution_count": 8,
   "metadata": {},
   "outputs": [
    {
     "name": "stdout",
     "output_type": "stream",
     "text": [
      "Saved model to disk\n"
     ]
    }
   ],
   "source": [
    "# serialize model to JSON\n",
    "model_json = cnn_n.to_json()\n",
    "with open(\"models/model.json\", \"w\") as json_file:\n",
    "    json_file.write(model_json)\n",
    "# serialize weights to HDF5\n",
    "cnn_n.save_weights(\"models/model.h5\")\n",
    "print(\"Saved model to disk\")"
   ]
  },
  {
   "cell_type": "code",
   "execution_count": null,
   "metadata": {},
   "outputs": [],
   "source": []
  }
 ],
 "metadata": {
  "kernelspec": {
   "display_name": "Python 3",
   "language": "python",
   "name": "python3"
  },
  "language_info": {
   "codemirror_mode": {
    "name": "ipython",
    "version": 3
   },
   "file_extension": ".py",
   "mimetype": "text/x-python",
   "name": "python",
   "nbconvert_exporter": "python",
   "pygments_lexer": "ipython3",
   "version": "3.6.5"
  }
 },
 "nbformat": 4,
 "nbformat_minor": 2
}
