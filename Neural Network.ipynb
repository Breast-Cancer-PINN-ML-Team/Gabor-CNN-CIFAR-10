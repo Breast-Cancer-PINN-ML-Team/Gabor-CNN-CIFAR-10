{
 "cells": [
  {
   "cell_type": "code",
   "execution_count": 1,
   "metadata": {},
   "outputs": [
    {
     "name": "stderr",
     "output_type": "stream",
     "text": [
      "Using TensorFlow backend.\n"
     ]
    }
   ],
   "source": [
    "import time\n",
    "import matplotlib.pyplot as plt\n",
    "import numpy as np\n",
    "import keras\n",
    "from skimage.filters import gabor_kernel\n",
    "from keras.models import Sequential\n",
    "from keras.layers import Dense\n",
    "from keras.layers import Dropout\n",
    "from keras.layers import Flatten\n",
    "from keras.constraints import maxnorm\n",
    "from keras.optimizers import SGD\n",
    "from keras.layers import Activation\n",
    "from keras.layers.convolutional import Conv2D\n",
    "from keras.layers.convolutional import MaxPooling2D\n",
    "from keras.layers.normalization import BatchNormalization\n",
    "from keras.utils import np_utils\n",
    "from keras import backend as K\n",
    "if K.backend()=='tensorflow':\n",
    "    K.set_image_dim_ordering(\"tf\")\n",
    "from skimage.color import rgb2gray\n",
    "from scipy import ndimage as ndi\n",
    " \n",
    "# Import Tensorflow with multiprocessing\n",
    "import tensorflow as tf\n",
    "import multiprocessing as mp\n",
    " \n",
    "# Loading the CIFAR-10 datasets\n",
    "from keras.datasets import cifar10"
   ]
  },
  {
   "cell_type": "code",
   "execution_count": 18,
   "metadata": {},
   "outputs": [],
   "source": [
    "(x_train, y_train), (x_test, y_test) = cifar10.load_data()\n",
    "y_train = np_utils.to_categorical(y_train, num_classes)\n",
    "y_test = np_utils.to_categorical(y_test, num_classes)\n",
    "x_train = np.load('convolved_x_train_cv2.npy')\n",
    "x_test = np.load('convolved_x_test_cv2.npy')"
   ]
  },
  {
   "cell_type": "code",
   "execution_count": 19,
   "metadata": {},
   "outputs": [],
   "source": [
    "batch_size = 32\n",
    "# 32 examples in a mini-batch, smaller batch size means more updates in one epoch\n",
    "\n",
    "num_classes = 10\n",
    "epochs = 24\n",
    "class_names = ['airplane', 'automobile', 'bird', 'cat', 'deer', 'dog', 'frog', 'horse', 'ship', 'truck']"
   ]
  },
  {
   "cell_type": "code",
   "execution_count": 20,
   "metadata": {},
   "outputs": [],
   "source": [
    "def base_model():\n",
    "    model = Sequential()\n",
    "    model.add(Conv2D(32, (3, 3), padding='same', data_format='channels_last', input_shape=x_train.shape[1:]))\n",
    "    model.add(Activation('relu'))\n",
    "    model.add(Conv2D(32, (3, 3)))\n",
    "    model.add(Activation('relu'))\n",
    "    model.add(MaxPooling2D(pool_size=(2, 2)))\n",
    "    model.add(Dropout(0.25))\n",
    "\n",
    "    model.add(Conv2D(64, (3, 3), padding='same'))\n",
    "    model.add(Activation('relu'))\n",
    "    model.add(Conv2D(64, (3, 3)))\n",
    "    model.add(Activation('relu'))\n",
    "    model.add(MaxPooling2D(pool_size=(2, 2)))\n",
    "    model.add(Dropout(0.25))\n",
    "\n",
    "    model.add(Flatten())\n",
    "    model.add(Dense(512))\n",
    "    model.add(Activation('relu'))\n",
    "    model.add(Dropout(0.5))\n",
    "    model.add(Dense(num_classes))\n",
    "    model.add(Activation('softmax'))\n",
    "    # sgd = SGD(lr = 0.1, decay = 1e-6, momentum=0.9, nesterov=True)\n",
    "    opt = keras.optimizers.rmsprop(lr=0.0001, decay=1e-6)\n",
    "    # Train model\n",
    "    model.compile(loss='categorical_crossentropy', optimizer=opt, metrics=['accuracy'])\n",
    "    return model"
   ]
  },
  {
   "cell_type": "code",
   "execution_count": 22,
   "metadata": {},
   "outputs": [
    {
     "name": "stdout",
     "output_type": "stream",
     "text": [
      "(10, 32, 32, 96)\n",
      "(50000, 10)\n",
      "_________________________________________________________________\n",
      "Layer (type)                 Output Shape              Param #   \n",
      "=================================================================\n",
      "conv2d_9 (Conv2D)            (None, 32, 32, 32)        27680     \n",
      "_________________________________________________________________\n",
      "activation_13 (Activation)   (None, 32, 32, 32)        0         \n",
      "_________________________________________________________________\n",
      "conv2d_10 (Conv2D)           (None, 30, 30, 32)        9248      \n",
      "_________________________________________________________________\n",
      "activation_14 (Activation)   (None, 30, 30, 32)        0         \n",
      "_________________________________________________________________\n",
      "max_pooling2d_5 (MaxPooling2 (None, 15, 15, 32)        0         \n",
      "_________________________________________________________________\n",
      "dropout_7 (Dropout)          (None, 15, 15, 32)        0         \n",
      "_________________________________________________________________\n",
      "conv2d_11 (Conv2D)           (None, 15, 15, 64)        18496     \n",
      "_________________________________________________________________\n",
      "activation_15 (Activation)   (None, 15, 15, 64)        0         \n",
      "_________________________________________________________________\n",
      "conv2d_12 (Conv2D)           (None, 13, 13, 64)        36928     \n",
      "_________________________________________________________________\n",
      "activation_16 (Activation)   (None, 13, 13, 64)        0         \n",
      "_________________________________________________________________\n",
      "max_pooling2d_6 (MaxPooling2 (None, 6, 6, 64)          0         \n",
      "_________________________________________________________________\n",
      "dropout_8 (Dropout)          (None, 6, 6, 64)          0         \n",
      "_________________________________________________________________\n",
      "flatten_3 (Flatten)          (None, 2304)              0         \n",
      "_________________________________________________________________\n",
      "dense_5 (Dense)              (None, 512)               1180160   \n",
      "_________________________________________________________________\n",
      "activation_17 (Activation)   (None, 512)               0         \n",
      "_________________________________________________________________\n",
      "dropout_9 (Dropout)          (None, 512)               0         \n",
      "_________________________________________________________________\n",
      "dense_6 (Dense)              (None, 10)                5130      \n",
      "_________________________________________________________________\n",
      "activation_18 (Activation)   (None, 10)                0         \n",
      "=================================================================\n",
      "Total params: 1,277,642\n",
      "Trainable params: 1,277,642\n",
      "Non-trainable params: 0\n",
      "_________________________________________________________________\n",
      "Train on 10 samples, validate on 10 samples\n",
      "Epoch 1/24\n",
      "10/10 [==============================] - 1s 76ms/step - loss: 16.0156 - acc: 0.0000e+00 - val_loss: 14.5063 - val_acc: 0.1000\n",
      "Epoch 2/24\n",
      "10/10 [==============================] - 0s 14ms/step - loss: 15.3585 - acc: 0.0000e+00 - val_loss: 14.7324 - val_acc: 0.0000e+00\n",
      "Epoch 3/24\n",
      "10/10 [==============================] - 0s 13ms/step - loss: 14.1667 - acc: 0.1000 - val_loss: 16.1181 - val_acc: 0.0000e+00\n",
      "Epoch 4/24\n",
      "10/10 [==============================] - 0s 14ms/step - loss: 13.6464 - acc: 0.0000e+00 - val_loss: 16.1181 - val_acc: 0.0000e+00\n",
      "Epoch 5/24\n",
      "10/10 [==============================] - 0s 13ms/step - loss: 12.8945 - acc: 0.2000 - val_loss: 16.1181 - val_acc: 0.0000e+00\n",
      "Epoch 6/24\n",
      "10/10 [==============================] - 0s 13ms/step - loss: 12.8945 - acc: 0.2000 - val_loss: 16.1181 - val_acc: 0.0000e+00\n",
      "Epoch 7/24\n",
      "10/10 [==============================] - 0s 14ms/step - loss: 12.8945 - acc: 0.2000 - val_loss: 16.1181 - val_acc: 0.0000e+00\n",
      "Epoch 8/24\n",
      "10/10 [==============================] - 0s 15ms/step - loss: 12.8945 - acc: 0.2000 - val_loss: 16.1181 - val_acc: 0.0000e+00\n",
      "Epoch 9/24\n",
      "10/10 [==============================] - 0s 13ms/step - loss: 12.8945 - acc: 0.2000 - val_loss: 16.1181 - val_acc: 0.0000e+00\n",
      "Epoch 10/24\n",
      "10/10 [==============================] - 0s 14ms/step - loss: 12.8945 - acc: 0.2000 - val_loss: 16.1181 - val_acc: 0.0000e+00\n",
      "Epoch 11/24\n",
      "10/10 [==============================] - 0s 15ms/step - loss: 12.8945 - acc: 0.2000 - val_loss: 16.1181 - val_acc: 0.0000e+00\n",
      "Epoch 12/24\n",
      "10/10 [==============================] - 0s 14ms/step - loss: 12.8945 - acc: 0.2000 - val_loss: 16.1181 - val_acc: 0.0000e+00\n",
      "Epoch 13/24\n",
      "10/10 [==============================] - 0s 15ms/step - loss: 12.8945 - acc: 0.2000 - val_loss: 16.1181 - val_acc: 0.0000e+00\n",
      "Epoch 14/24\n",
      "10/10 [==============================] - 0s 12ms/step - loss: 12.8945 - acc: 0.2000 - val_loss: 16.1181 - val_acc: 0.0000e+00\n",
      "Epoch 15/24\n",
      "10/10 [==============================] - 0s 13ms/step - loss: 12.8945 - acc: 0.2000 - val_loss: 16.1181 - val_acc: 0.0000e+00\n",
      "Epoch 16/24\n",
      "10/10 [==============================] - 0s 12ms/step - loss: 12.8945 - acc: 0.2000 - val_loss: 16.1181 - val_acc: 0.0000e+00\n",
      "Epoch 17/24\n",
      "10/10 [==============================] - 0s 13ms/step - loss: 12.8945 - acc: 0.2000 - val_loss: 16.1181 - val_acc: 0.0000e+00\n",
      "Epoch 18/24\n",
      "10/10 [==============================] - 0s 14ms/step - loss: 12.8945 - acc: 0.2000 - val_loss: 16.1181 - val_acc: 0.0000e+00\n",
      "Epoch 19/24\n",
      "10/10 [==============================] - 0s 14ms/step - loss: 12.8945 - acc: 0.2000 - val_loss: 16.1181 - val_acc: 0.0000e+00\n",
      "Epoch 20/24\n",
      "10/10 [==============================] - 0s 15ms/step - loss: 12.8945 - acc: 0.2000 - val_loss: 16.1181 - val_acc: 0.0000e+00\n",
      "Epoch 21/24\n",
      "10/10 [==============================] - 0s 14ms/step - loss: 12.8945 - acc: 0.2000 - val_loss: 16.1181 - val_acc: 0.0000e+00\n",
      "Epoch 22/24\n",
      "10/10 [==============================] - 0s 13ms/step - loss: 12.8945 - acc: 0.2000 - val_loss: 16.1181 - val_acc: 0.0000e+00\n",
      "Epoch 23/24\n",
      "10/10 [==============================] - 0s 12ms/step - loss: 12.8945 - acc: 0.2000 - val_loss: 16.1181 - val_acc: 0.0000e+00\n",
      "Epoch 24/24\n",
      "10/10 [==============================] - 0s 12ms/step - loss: 11.2827 - acc: 0.3000 - val_loss: 16.1181 - val_acc: 0.0000e+00\n"
     ]
    }
   ],
   "source": [
    "print(x_train.shape)\n",
    "print(y_train.shape)\n",
    "cnn_n = base_model()\n",
    "cnn_n.summary()\n",
    "\n",
    "cnn = cnn_n.fit(x_train, y_train, batch_size=batch_size, epochs=epochs, validation_data=(x_test, y_test), shuffle=True)"
   ]
  },
  {
   "cell_type": "code",
   "execution_count": 24,
   "metadata": {},
   "outputs": [
    {
     "name": "stdout",
     "output_type": "stream",
     "text": [
      "Test loss: 16.11809539794922\n",
      "Test accuracy: 0.0\n"
     ]
    }
   ],
   "source": [
    "score = cnn_n.evaluate(x_test, y_test, verbose=0)\n",
    "print('Test loss:', score[0])\n",
    "print('Test accuracy:', score[1])"
   ]
  },
  {
   "cell_type": "code",
   "execution_count": 29,
   "metadata": {},
   "outputs": [
    {
     "name": "stdout",
     "output_type": "stream",
     "text": [
      "Saved model to disk\n"
     ]
    }
   ],
   "source": [
    "# serialize model to JSON\n",
    "model_json = cnn_n.to_json()\n",
    "with open(\"models/model.json\", \"w\") as json_file:\n",
    "    json_file.write(model_json)\n",
    "# serialize weights to HDF5\n",
    "cnn_n.save_weights(\"models/model.h5\")\n",
    "print(\"Saved model to disk\")"
   ]
  },
  {
   "cell_type": "code",
   "execution_count": null,
   "metadata": {},
   "outputs": [],
   "source": []
  }
 ],
 "metadata": {
  "kernelspec": {
   "display_name": "Python 3",
   "language": "python",
   "name": "python3"
  },
  "language_info": {
   "codemirror_mode": {
    "name": "ipython",
    "version": 3
   },
   "file_extension": ".py",
   "mimetype": "text/x-python",
   "name": "python",
   "nbconvert_exporter": "python",
   "pygments_lexer": "ipython3",
   "version": "3.6.5"
  }
 },
 "nbformat": 4,
 "nbformat_minor": 2
}
